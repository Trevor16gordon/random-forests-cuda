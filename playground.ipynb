{
 "cells": [
  {
   "cell_type": "code",
   "execution_count": 5,
   "metadata": {},
   "outputs": [],
   "source": [
    "import pandas as pd\n",
    "import numpy as np\n",
    "from sklearn.ensemble import RandomForestClassifier\n",
    "from sklearn.model_selection import train_test_split\n",
    "from sklearn.metrics import roc_auc_score, multilabel_confusion_matrix, confusion_matrix\n",
    "from numpy import unravel_index\n",
    "from sklearn import tree"
   ]
  },
  {
   "cell_type": "code",
   "execution_count": 2,
   "metadata": {},
   "outputs": [
    {
     "data": {
      "text/html": [
       "<div>\n",
       "<style scoped>\n",
       "    .dataframe tbody tr th:only-of-type {\n",
       "        vertical-align: middle;\n",
       "    }\n",
       "\n",
       "    .dataframe tbody tr th {\n",
       "        vertical-align: top;\n",
       "    }\n",
       "\n",
       "    .dataframe thead th {\n",
       "        text-align: right;\n",
       "    }\n",
       "</style>\n",
       "<table border=\"1\" class=\"dataframe\">\n",
       "  <thead>\n",
       "    <tr style=\"text-align: right;\">\n",
       "      <th></th>\n",
       "      <th>sepal_length</th>\n",
       "      <th>sepal_width</th>\n",
       "      <th>petal_length</th>\n",
       "      <th>petal_width</th>\n",
       "      <th>species</th>\n",
       "    </tr>\n",
       "  </thead>\n",
       "  <tbody>\n",
       "    <tr>\n",
       "      <th>0</th>\n",
       "      <td>5.1</td>\n",
       "      <td>3.5</td>\n",
       "      <td>1.4</td>\n",
       "      <td>0.2</td>\n",
       "      <td>Iris-setosa</td>\n",
       "    </tr>\n",
       "    <tr>\n",
       "      <th>1</th>\n",
       "      <td>4.9</td>\n",
       "      <td>3.0</td>\n",
       "      <td>1.4</td>\n",
       "      <td>0.2</td>\n",
       "      <td>Iris-setosa</td>\n",
       "    </tr>\n",
       "    <tr>\n",
       "      <th>2</th>\n",
       "      <td>4.7</td>\n",
       "      <td>3.2</td>\n",
       "      <td>1.3</td>\n",
       "      <td>0.2</td>\n",
       "      <td>Iris-setosa</td>\n",
       "    </tr>\n",
       "    <tr>\n",
       "      <th>3</th>\n",
       "      <td>4.6</td>\n",
       "      <td>3.1</td>\n",
       "      <td>1.5</td>\n",
       "      <td>0.2</td>\n",
       "      <td>Iris-setosa</td>\n",
       "    </tr>\n",
       "    <tr>\n",
       "      <th>4</th>\n",
       "      <td>5.0</td>\n",
       "      <td>3.6</td>\n",
       "      <td>1.4</td>\n",
       "      <td>0.2</td>\n",
       "      <td>Iris-setosa</td>\n",
       "    </tr>\n",
       "  </tbody>\n",
       "</table>\n",
       "</div>"
      ],
      "text/plain": [
       "   sepal_length  sepal_width  petal_length  petal_width      species\n",
       "0           5.1          3.5           1.4          0.2  Iris-setosa\n",
       "1           4.9          3.0           1.4          0.2  Iris-setosa\n",
       "2           4.7          3.2           1.3          0.2  Iris-setosa\n",
       "3           4.6          3.1           1.5          0.2  Iris-setosa\n",
       "4           5.0          3.6           1.4          0.2  Iris-setosa"
      ]
     },
     "execution_count": 2,
     "metadata": {},
     "output_type": "execute_result"
    }
   ],
   "source": [
    "df =pd.read_csv(\"data/IRIS.csv\")\n",
    "df.head()"
   ]
  },
  {
   "cell_type": "code",
   "execution_count": 3,
   "metadata": {},
   "outputs": [],
   "source": [
    "X_all = df.iloc[:, 0:4]\n",
    "y_all = df.iloc[:, 4:]\n",
    "X_train, X_test, y_train, y_test = train_test_split(X_all, y_all, test_size=0.3)"
   ]
  },
  {
   "cell_type": "code",
   "execution_count": 6,
   "metadata": {},
   "outputs": [
    {
     "data": {
      "text/plain": [
       "array([[11,  0,  0],\n",
       "       [ 0, 16,  1],\n",
       "       [ 0,  1, 16]])"
      ]
     },
     "execution_count": 6,
     "metadata": {},
     "output_type": "execute_result"
    }
   ],
   "source": [
    "# cl = RandomForestClassifier(n_estimators=1, max_depth=4)\n",
    "cl = tree.DecisionTreeClassifier(max_depth=3)\n",
    "cl.fit(X_train, y_train)\n",
    "y_pred = cl.predict(X_test)\n",
    "confusion_matrix(y_pred.tolist(), y_test.iloc[:, 0].tolist())"
   ]
  },
  {
   "cell_type": "code",
   "execution_count": 219,
   "metadata": {},
   "outputs": [
    {
     "name": "stdout",
     "output_type": "stream",
     "text": [
      "|--- feature_3 <= 0.80\n",
      "|   |--- class: Iris-setosa\n",
      "|--- feature_3 >  0.80\n",
      "|   |--- feature_3 <= 1.75\n",
      "|   |   |--- feature_2 <= 4.95\n",
      "|   |   |   |--- class: Iris-versicolor\n",
      "|   |   |--- feature_2 >  4.95\n",
      "|   |   |   |--- class: Iris-virginica\n",
      "|   |--- feature_3 >  1.75\n",
      "|   |   |--- class: Iris-virginica\n",
      "\n"
     ]
    }
   ],
   "source": [
    "\n",
    "print(tree.export_text(cl))"
   ]
  },
  {
   "cell_type": "code",
   "execution_count": 38,
   "metadata": {},
   "outputs": [
    {
     "name": "stdout",
     "output_type": "stream",
     "text": [
      "Data didn't split into two. Making terminal here\n",
      "Data didn't split into two. Making terminal here\n",
      "Data didn't split into two. Making terminal here\n",
      "Data didn't split into two. Making terminal here\n",
      "Data didn't split into two. Making terminal here\n",
      "Data didn't split into two. Making terminal here\n",
      "Data didn't split into two. Making terminal here\n",
      "Data didn't split into two. Making terminal here\n",
      "Data didn't split into two. Making terminal here\n",
      "Data didn't split into two. Making terminal here\n",
      "Data didn't split into two. Making terminal here\n",
      "Data didn't split into two. Making terminal here\n",
      "Data didn't split into two. Making terminal here\n",
      "Data didn't split into two. Making terminal here\n",
      "Data didn't split into two. Making terminal here\n",
      "Data didn't split into two. Making terminal here\n",
      "Data didn't split into two. Making terminal here\n",
      "Data didn't split into two. Making terminal here\n",
      "Data didn't split into two. Making terminal here\n",
      "Data didn't split into two. Making terminal here\n"
     ]
    }
   ],
   "source": [
    "import imp\n",
    "import src.python.random_forest\n",
    "imp.reload(src.python.random_forest)\n",
    "from src.python.random_forest import RandomForestFromScratch\n",
    "rf = RandomForestFromScratch(max_depth=5, n_estimators=10)\n",
    "rf.fit(X_train.to_numpy(), y_train.to_numpy())"
   ]
  },
  {
   "cell_type": "code",
   "execution_count": 39,
   "metadata": {},
   "outputs": [
    {
     "data": {
      "text/plain": [
       "array([[11,  0,  0],\n",
       "       [ 0, 16,  2],\n",
       "       [ 0,  1, 15]])"
      ]
     },
     "execution_count": 39,
     "metadata": {},
     "output_type": "execute_result"
    }
   ],
   "source": [
    "y_pred2 = rf.predict(X_test.values)\n",
    "confusion_matrix(y_pred2.T, y_test.values)"
   ]
  },
  {
   "cell_type": "markdown",
   "metadata": {},
   "source": [
    "y_pred2"
   ]
  },
  {
   "cell_type": "code",
   "execution_count": 177,
   "metadata": {},
   "outputs": [
    {
     "name": "stdout",
     "output_type": "stream",
     "text": [
      "Terminal class is Iris-setosa\n",
      "Terminal class is Iris-versicolor\n",
      "Terminal class is Iris-setosa\n",
      "Terminal class is Iris-versicolor\n",
      "Terminal class is Iris-virginica\n",
      "Terminal class is Iris-virginica\n",
      "Terminal class is Iris-virginica\n",
      "Node depth 0 self.dim 3 self.val 2.0Node depth 1 self.dim 3 self.val 1.0Node depth 2 self.dim 0 self.val 4.4Node depth 3 self.dim None self.val NoneNode depth 3 self.dim 1 self.val 3.0Node depth 4 self.dim None self.val NoneNode depth 4 self.dim None self.val NoneNode depth 2 self.dim 2 self.val 6.3Node depth 3 self.dim 2 self.val 5.5Node depth 4 self.dim None self.val NoneNode depth 4 self.dim None self.val NoneNode depth 3 self.dim None self.val NoneNode depth 1 self.dim None self.val None\n"
     ]
    },
    {
     "data": {
      "text/plain": [
       "'Node depth 0 self.dim 3 self.val 2.0Node depth 1 self.dim 3 self.val 1.0Node depth 2 self.dim 0 self.val 4.4Node depth 3 self.dim None self.val NoneNode depth 3 self.dim 1 self.val 3.0Node depth 4 self.dim None self.val NoneNode depth 4 self.dim None self.val NoneNode depth 2 self.dim 2 self.val 6.3Node depth 3 self.dim 2 self.val 5.5Node depth 4 self.dim None self.val NoneNode depth 4 self.dim None self.val NoneNode depth 3 self.dim None self.val NoneNode depth 1 self.dim None self.val None'"
      ]
     },
     "execution_count": 177,
     "metadata": {},
     "output_type": "execute_result"
    }
   ],
   "source": [
    "rf.root.depth_first_print()"
   ]
  },
  {
   "cell_type": "code",
   "execution_count": 154,
   "metadata": {},
   "outputs": [
    {
     "data": {
      "text/html": [
       "<div>\n",
       "<style scoped>\n",
       "    .dataframe tbody tr th:only-of-type {\n",
       "        vertical-align: middle;\n",
       "    }\n",
       "\n",
       "    .dataframe tbody tr th {\n",
       "        vertical-align: top;\n",
       "    }\n",
       "\n",
       "    .dataframe thead th {\n",
       "        text-align: right;\n",
       "    }\n",
       "</style>\n",
       "<table border=\"1\" class=\"dataframe\">\n",
       "  <thead>\n",
       "    <tr style=\"text-align: right;\">\n",
       "      <th></th>\n",
       "      <th>y_test</th>\n",
       "      <th>ref_y_pred</th>\n",
       "      <th>out_y_pred</th>\n",
       "    </tr>\n",
       "  </thead>\n",
       "  <tbody>\n",
       "    <tr>\n",
       "      <th>0</th>\n",
       "      <td>Iris-versicolor</td>\n",
       "      <td>Iris-versicolor</td>\n",
       "      <td>Iris-setosa</td>\n",
       "    </tr>\n",
       "    <tr>\n",
       "      <th>1</th>\n",
       "      <td>Iris-virginica</td>\n",
       "      <td>Iris-virginica</td>\n",
       "      <td>Iris-virginica</td>\n",
       "    </tr>\n",
       "    <tr>\n",
       "      <th>2</th>\n",
       "      <td>Iris-setosa</td>\n",
       "      <td>Iris-setosa</td>\n",
       "      <td>Iris-setosa</td>\n",
       "    </tr>\n",
       "    <tr>\n",
       "      <th>3</th>\n",
       "      <td>Iris-virginica</td>\n",
       "      <td>Iris-virginica</td>\n",
       "      <td>Iris-virginica</td>\n",
       "    </tr>\n",
       "    <tr>\n",
       "      <th>4</th>\n",
       "      <td>Iris-versicolor</td>\n",
       "      <td>Iris-versicolor</td>\n",
       "      <td>Iris-virginica</td>\n",
       "    </tr>\n",
       "    <tr>\n",
       "      <th>5</th>\n",
       "      <td>Iris-versicolor</td>\n",
       "      <td>Iris-versicolor</td>\n",
       "      <td>Iris-setosa</td>\n",
       "    </tr>\n",
       "    <tr>\n",
       "      <th>6</th>\n",
       "      <td>Iris-setosa</td>\n",
       "      <td>Iris-setosa</td>\n",
       "      <td>Iris-setosa</td>\n",
       "    </tr>\n",
       "    <tr>\n",
       "      <th>7</th>\n",
       "      <td>Iris-virginica</td>\n",
       "      <td>Iris-versicolor</td>\n",
       "      <td>Iris-virginica</td>\n",
       "    </tr>\n",
       "    <tr>\n",
       "      <th>8</th>\n",
       "      <td>Iris-versicolor</td>\n",
       "      <td>Iris-versicolor</td>\n",
       "      <td>Iris-virginica</td>\n",
       "    </tr>\n",
       "    <tr>\n",
       "      <th>9</th>\n",
       "      <td>Iris-virginica</td>\n",
       "      <td>Iris-virginica</td>\n",
       "      <td>Iris-virginica</td>\n",
       "    </tr>\n",
       "    <tr>\n",
       "      <th>10</th>\n",
       "      <td>Iris-virginica</td>\n",
       "      <td>Iris-virginica</td>\n",
       "      <td>Iris-virginica</td>\n",
       "    </tr>\n",
       "    <tr>\n",
       "      <th>11</th>\n",
       "      <td>Iris-virginica</td>\n",
       "      <td>Iris-virginica</td>\n",
       "      <td>Iris-virginica</td>\n",
       "    </tr>\n",
       "    <tr>\n",
       "      <th>12</th>\n",
       "      <td>Iris-versicolor</td>\n",
       "      <td>Iris-versicolor</td>\n",
       "      <td>Iris-versicolor</td>\n",
       "    </tr>\n",
       "    <tr>\n",
       "      <th>13</th>\n",
       "      <td>Iris-setosa</td>\n",
       "      <td>Iris-setosa</td>\n",
       "      <td>Iris-setosa</td>\n",
       "    </tr>\n",
       "    <tr>\n",
       "      <th>14</th>\n",
       "      <td>Iris-virginica</td>\n",
       "      <td>Iris-virginica</td>\n",
       "      <td>Iris-virginica</td>\n",
       "    </tr>\n",
       "  </tbody>\n",
       "</table>\n",
       "</div>"
      ],
      "text/plain": [
       "             y_test       ref_y_pred       out_y_pred\n",
       "0   Iris-versicolor  Iris-versicolor      Iris-setosa\n",
       "1    Iris-virginica   Iris-virginica   Iris-virginica\n",
       "2       Iris-setosa      Iris-setosa      Iris-setosa\n",
       "3    Iris-virginica   Iris-virginica   Iris-virginica\n",
       "4   Iris-versicolor  Iris-versicolor   Iris-virginica\n",
       "5   Iris-versicolor  Iris-versicolor      Iris-setosa\n",
       "6       Iris-setosa      Iris-setosa      Iris-setosa\n",
       "7    Iris-virginica  Iris-versicolor   Iris-virginica\n",
       "8   Iris-versicolor  Iris-versicolor   Iris-virginica\n",
       "9    Iris-virginica   Iris-virginica   Iris-virginica\n",
       "10   Iris-virginica   Iris-virginica   Iris-virginica\n",
       "11   Iris-virginica   Iris-virginica   Iris-virginica\n",
       "12  Iris-versicolor  Iris-versicolor  Iris-versicolor\n",
       "13      Iris-setosa      Iris-setosa      Iris-setosa\n",
       "14   Iris-virginica   Iris-virginica   Iris-virginica"
      ]
     },
     "execution_count": 154,
     "metadata": {},
     "output_type": "execute_result"
    }
   ],
   "source": [
    "pd.DataFrame({\"y_test\": y_test.values[:, 0], \"ref_y_pred\": y_pred, \"out_y_pred\": y_pred2})"
   ]
  },
  {
   "cell_type": "code",
   "execution_count": 130,
   "metadata": {},
   "outputs": [
    {
     "data": {
      "text/plain": [
       "array(['Iris-versicolor', 'Iris-virginica', 'Iris-setosa',\n",
       "       'Iris-virginica', 'Iris-versicolor', 'Iris-versicolor',\n",
       "       'Iris-setosa', 'Iris-virginica', 'Iris-versicolor',\n",
       "       'Iris-virginica', 'Iris-virginica', 'Iris-virginica',\n",
       "       'Iris-versicolor', 'Iris-setosa', 'Iris-virginica'], dtype=object)"
      ]
     },
     "execution_count": 130,
     "metadata": {},
     "output_type": "execute_result"
    }
   ],
   "source": []
  },
  {
   "cell_type": "code",
   "execution_count": null,
   "metadata": {},
   "outputs": [],
   "source": []
  }
 ],
 "metadata": {
  "interpreter": {
   "hash": "d35876ac6c4cca4418adb3abbfbb3a8e7704a0ecc1db87d16d590d4774437b1e"
  },
  "kernelspec": {
   "display_name": "Python 3.7.9 64-bit ('sandbox2': virtualenv)",
   "language": "python",
   "name": "python3"
  },
  "language_info": {
   "codemirror_mode": {
    "name": "ipython",
    "version": 3
   },
   "file_extension": ".py",
   "mimetype": "text/x-python",
   "name": "python",
   "nbconvert_exporter": "python",
   "pygments_lexer": "ipython3",
   "version": "3.7.9"
  },
  "orig_nbformat": 4
 },
 "nbformat": 4,
 "nbformat_minor": 2
}
