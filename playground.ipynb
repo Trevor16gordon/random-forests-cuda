{
 "cells": [
  {
   "cell_type": "code",
   "execution_count": 68,
   "metadata": {},
   "outputs": [],
   "source": [
    "import pandas as pd\n",
    "import numpy as np\n",
    "from sklearn.ensemble import RandomForestClassifier\n",
    "from sklearn.model_selection import train_test_split\n",
    "from sklearn.metrics import roc_auc_score, multilabel_confusion_matrix, confusion_matrix\n",
    "from numpy import unravel_index"
   ]
  },
  {
   "cell_type": "code",
   "execution_count": 9,
   "metadata": {},
   "outputs": [
    {
     "data": {
      "text/html": [
       "<div>\n",
       "<style scoped>\n",
       "    .dataframe tbody tr th:only-of-type {\n",
       "        vertical-align: middle;\n",
       "    }\n",
       "\n",
       "    .dataframe tbody tr th {\n",
       "        vertical-align: top;\n",
       "    }\n",
       "\n",
       "    .dataframe thead th {\n",
       "        text-align: right;\n",
       "    }\n",
       "</style>\n",
       "<table border=\"1\" class=\"dataframe\">\n",
       "  <thead>\n",
       "    <tr style=\"text-align: right;\">\n",
       "      <th></th>\n",
       "      <th>sepal_length</th>\n",
       "      <th>sepal_width</th>\n",
       "      <th>petal_length</th>\n",
       "      <th>petal_width</th>\n",
       "      <th>species</th>\n",
       "    </tr>\n",
       "  </thead>\n",
       "  <tbody>\n",
       "    <tr>\n",
       "      <th>0</th>\n",
       "      <td>5.1</td>\n",
       "      <td>3.5</td>\n",
       "      <td>1.4</td>\n",
       "      <td>0.2</td>\n",
       "      <td>Iris-setosa</td>\n",
       "    </tr>\n",
       "    <tr>\n",
       "      <th>1</th>\n",
       "      <td>4.9</td>\n",
       "      <td>3.0</td>\n",
       "      <td>1.4</td>\n",
       "      <td>0.2</td>\n",
       "      <td>Iris-setosa</td>\n",
       "    </tr>\n",
       "    <tr>\n",
       "      <th>2</th>\n",
       "      <td>4.7</td>\n",
       "      <td>3.2</td>\n",
       "      <td>1.3</td>\n",
       "      <td>0.2</td>\n",
       "      <td>Iris-setosa</td>\n",
       "    </tr>\n",
       "    <tr>\n",
       "      <th>3</th>\n",
       "      <td>4.6</td>\n",
       "      <td>3.1</td>\n",
       "      <td>1.5</td>\n",
       "      <td>0.2</td>\n",
       "      <td>Iris-setosa</td>\n",
       "    </tr>\n",
       "    <tr>\n",
       "      <th>4</th>\n",
       "      <td>5.0</td>\n",
       "      <td>3.6</td>\n",
       "      <td>1.4</td>\n",
       "      <td>0.2</td>\n",
       "      <td>Iris-setosa</td>\n",
       "    </tr>\n",
       "  </tbody>\n",
       "</table>\n",
       "</div>"
      ],
      "text/plain": [
       "   sepal_length  sepal_width  petal_length  petal_width      species\n",
       "0           5.1          3.5           1.4          0.2  Iris-setosa\n",
       "1           4.9          3.0           1.4          0.2  Iris-setosa\n",
       "2           4.7          3.2           1.3          0.2  Iris-setosa\n",
       "3           4.6          3.1           1.5          0.2  Iris-setosa\n",
       "4           5.0          3.6           1.4          0.2  Iris-setosa"
      ]
     },
     "execution_count": 9,
     "metadata": {},
     "output_type": "execute_result"
    }
   ],
   "source": [
    "df =pd.read_csv(\"data/IRIS.csv\")\n",
    "df.head()"
   ]
  },
  {
   "cell_type": "code",
   "execution_count": 19,
   "metadata": {},
   "outputs": [],
   "source": [
    "X_all = df.iloc[:, 0:4]\n",
    "y_all = df.iloc[:, 4:]\n",
    "X_train, X_test, y_train, y_test = train_test_split(X_all, y_all, test_size=0.1)"
   ]
  },
  {
   "cell_type": "code",
   "execution_count": 57,
   "metadata": {},
   "outputs": [
    {
     "name": "stderr",
     "output_type": "stream",
     "text": [
      "/Users/loreliegordon/.virtualenvs/sandbox2/lib/python3.7/site-packages/ipykernel_launcher.py:2: DataConversionWarning: A column-vector y was passed when a 1d array was expected. Please change the shape of y to (n_samples,), for example using ravel().\n",
      "  \n"
     ]
    },
    {
     "data": {
      "text/plain": [
       "array([[3, 0, 0],\n",
       "       [0, 4, 0],\n",
       "       [0, 0, 8]])"
      ]
     },
     "execution_count": 57,
     "metadata": {},
     "output_type": "execute_result"
    }
   ],
   "source": [
    "cl = RandomForestClassifier(n_estimators=1)\n",
    "cl.fit(X_train, y_train)\n",
    "y_pred = cl.predict(X_test)\n",
    "confusion_matrix(y_pred.tolist(), y_test.iloc[:, 0].tolist())"
   ]
  },
  {
   "cell_type": "code",
   "execution_count": 131,
   "metadata": {},
   "outputs": [],
   "source": [
    "import pdb"
   ]
  },
  {
   "cell_type": "code",
   "execution_count": 177,
   "metadata": {},
   "outputs": [],
   "source": [
    "class RandomForestFromScratch():\n",
    "\n",
    "\n",
    "    def __init__(self, n_estimators=1, max_depth=3):\n",
    "        self.max_depth = max_depth\n",
    "        self.n_estimators = n_estimators\n",
    "        pass\n",
    "\n",
    "    def fit(self, X_train, y_train):\n",
    "        self.X_n = len(X_train)\n",
    "        self.d = len(X_train[0])\n",
    "        self.weights = (1/self.X_n)*np.ones(self.X_n)\n",
    "\n",
    "\n",
    "        for iter in range(self.n_estimators):\n",
    "\n",
    "            choices = np.random.choice(range(self.X_n), p=self.weights, size=self.X_n)\n",
    "            X_train_b = X_train[choices]\n",
    "            y_train_b = y_train[choices]\n",
    "\n",
    "            item_stack_fifo = []\n",
    "\n",
    "            item_stack_fifo.append([X_train_b, y_train_b, 0, \"start\", None])\n",
    "\n",
    "            max_iters = 100\n",
    "            tot_count = 0\n",
    "\n",
    "            root = None\n",
    "            \n",
    "            while item_stack_fifo and (tot_count < max_iters):\n",
    "\n",
    "                tot_count += 1\n",
    "                [X_train_b, y_train_b, depth, node_dir, parent] = item_stack_fifo.pop(0)\n",
    "\n",
    "                n, _ = X_train_b.shape\n",
    "\n",
    "                if n == 0:\n",
    "                    print(\"Not adding a node here\")\n",
    "                    continue\n",
    "\n",
    "                all_gina_scores = np.zeros((n, self.d))\n",
    "                for dim in range(self.d):\n",
    "                    for row in range(n):\n",
    "                        all_gina_scores[row, dim] = self._calculate_score(X_train_b, y_train_b, dim, row)\n",
    "\n",
    "                best_dim, best_split_val, best_split_val_index = self._choose_best_score(all_gina_scores)\n",
    "\n",
    "                # print(f\"best_dim {best_dim}, best_split_val {best_split_val}, best_split_val_index {best_split_val_index} \")\n",
    "\n",
    "                # print(f\"X_train_b.shape {X_train_b.shape} best_split_val_index {best_split_val_index}\")\n",
    "                decision_boundary = X_train_b[best_split_val_index, best_dim]\n",
    "                \n",
    "                # print(f\"node_dir {node_dir} current_depth: {depth}, best_dim {best_dim} best_split_val {best_split_val} decision_boundary {decision_boundary}\")\n",
    "                \n",
    "\n",
    "                node = TreeNode(dim=best_dim, val=decision_boundary, depth=depth)\n",
    "\n",
    "                if parent is not None:\n",
    "                    if node_dir == \"left\":\n",
    "                        parent.left = node\n",
    "                    else:\n",
    "                        parent.right = node\n",
    "                else:\n",
    "                    root = node\n",
    "\n",
    "                X_train_left_b = X_train_b[X_train_b[:, best_dim] <= decision_boundary, :]\n",
    "                X_train_right_b = X_train_b[X_train_b[:, best_dim] > decision_boundary, :]\n",
    "                y_train_left_b = y_train_b[X_train_b[:, best_dim] <= decision_boundary, :]\n",
    "                y_train_right_b = y_train_b[X_train_b[:, best_dim] > decision_boundary, :]\n",
    "\n",
    "                if (depth + 1) < self.max_depth:\n",
    "\n",
    "                    item_stack_fifo.append([X_train_left_b, y_train_left_b, depth+1, \"left\", node])\n",
    "                    item_stack_fifo.append([X_train_right_b, y_train_right_b, depth+1, \"right\", node])\n",
    "\n",
    "            root.depth_first_print()\n",
    "\n",
    "    def _calculate_score(self, X_train_b, y_train_b, dim, row):\n",
    "        \n",
    "        score = np.random.uniform(X_train_b.min(), X_train_b.max())\n",
    "        return score\n",
    "\n",
    "    def _choose_best_score(self, all_gina_scores):\n",
    "        best_split_val_index, best_dim = unravel_index(all_gina_scores.argmax(), all_gina_scores.shape)\n",
    "        \n",
    "        best_split_val = all_gina_scores[best_split_val_index, best_dim]\n",
    "        return (best_dim, best_split_val, best_split_val_index)"
   ]
  },
  {
   "cell_type": "code",
   "execution_count": 178,
   "metadata": {},
   "outputs": [
    {
     "name": "stdout",
     "output_type": "stream",
     "text": [
      "Node depth 0 self.dim 2 self.val 4.5\n",
      "Node depth 1 self.dim 2 self.val 1.5\n",
      "Node depth 2 self.dim 1 self.val 3.7\n",
      "Node depth 2 self.dim 2 self.val 1.7\n",
      "Node depth 1 self.dim 2 self.val 5.0\n",
      "Node depth 2 self.dim 1 self.val 2.8\n",
      "Node depth 2 self.dim 1 self.val 2.9\n"
     ]
    }
   ],
   "source": [
    "rf = RandomForestFromScratch(max_depth=3)\n",
    "rf.fit(X_train.to_numpy(), y_train.to_numpy())"
   ]
  },
  {
   "cell_type": "code",
   "execution_count": 124,
   "metadata": {},
   "outputs": [],
   "source": [
    "class TreeNode:\n",
    "    \n",
    "    def __init__(self, dim=0, val=0, left=None, right=None, depth=None, is_terminal=False, terminal_val=None):\n",
    "        self.dim = dim\n",
    "        self.val = val\n",
    "        self.left = left\n",
    "        self.right = right\n",
    "        self.depth = depth\n",
    "        self.is_terminal = is_terminal\n",
    "        self.terminal_val = terminal_val\n",
    "\n",
    "    def depth_first_print(self):\n",
    "        print(f\"Node depth {self.depth} self.dim {self.dim} self.val {self.val}\")\n",
    "        if self.left:\n",
    "            self.left.depth_first_print()\n",
    "        \n",
    "        if self.right:\n",
    "            self.right.depth_first_print()\n",
    "\n",
    "    def predict(self, X):\n",
    "\n",
    "        test_val = X[:, self.dim]\n",
    "        if test_val >= self.val:\n",
    "            return self.right(X)\n",
    "        else:\n",
    "            return self.left(X)"
   ]
  },
  {
   "cell_type": "code",
   "execution_count": 119,
   "metadata": {},
   "outputs": [],
   "source": [
    "root = TreeNode(0, 0, depth=0)\n",
    "root.left = TreeNode(1, 1, depth=1)\n",
    "root.right = TreeNode(2,2, depth=1)"
   ]
  },
  {
   "cell_type": "code",
   "execution_count": 120,
   "metadata": {},
   "outputs": [
    {
     "name": "stdout",
     "output_type": "stream",
     "text": [
      "Node depth 0\n",
      "Node depth 1\n",
      "Node depth 1\n"
     ]
    }
   ],
   "source": [
    "root.depth_first_print()"
   ]
  },
  {
   "cell_type": "code",
   "execution_count": null,
   "metadata": {},
   "outputs": [],
   "source": []
  }
 ],
 "metadata": {
  "interpreter": {
   "hash": "d35876ac6c4cca4418adb3abbfbb3a8e7704a0ecc1db87d16d590d4774437b1e"
  },
  "kernelspec": {
   "display_name": "Python 3.7.9 64-bit ('sandbox2': virtualenv)",
   "language": "python",
   "name": "python3"
  },
  "language_info": {
   "codemirror_mode": {
    "name": "ipython",
    "version": 3
   },
   "file_extension": ".py",
   "mimetype": "text/x-python",
   "name": "python",
   "nbconvert_exporter": "python",
   "pygments_lexer": "ipython3",
   "version": "3.7.9"
  },
  "orig_nbformat": 4
 },
 "nbformat": 4,
 "nbformat_minor": 2
}
